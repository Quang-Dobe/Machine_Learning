{
  "nbformat": 4,
  "nbformat_minor": 0,
  "metadata": {
    "colab": {
      "name": "PyTorch_Tutorial_4.ipynb",
      "provenance": []
    },
    "kernelspec": {
      "name": "python3",
      "display_name": "Python 3"
    },
    "language_info": {
      "name": "python"
    }
  },
  "cells": [
    {
      "cell_type": "code",
      "execution_count": 1,
      "metadata": {
        "id": "EwffdgzjUHiu"
      },
      "outputs": [],
      "source": [
        "import os\n",
        "import torch\n",
        "import torchvision\n",
        "from torch import nn\n",
        "from torchvision import datasets, transforms\n",
        "from torch.utils.data import DataLoader"
      ]
    },
    {
      "cell_type": "code",
      "source": [
        "if (torch.cuda.is_available()):\n",
        "    device = 'cuda'\n",
        "else:\n",
        "    device = 'cpu'\n",
        "print(f\"Device : {device}\")"
      ],
      "metadata": {
        "colab": {
          "base_uri": "https://localhost:8080/"
        },
        "id": "DFB3qnmZX_18",
        "outputId": "7c2235b5-8b83-42e3-92e1-95424d31d500"
      },
      "execution_count": 2,
      "outputs": [
        {
          "output_type": "stream",
          "name": "stdout",
          "text": [
            "Device : cpu\n"
          ]
        }
      ]
    },
    {
      "cell_type": "markdown",
      "source": [
        "# **Define the class**"
      ],
      "metadata": {
        "id": "PBhLUgXLYvln"
      }
    },
    {
      "cell_type": "markdown",
      "source": [
        "We define our neural network by subclassing nn.Module, and initialize the neural network layers in __init__. Every nn.Module subclass implements the operations on input data in the forward method."
      ],
      "metadata": {
        "id": "hlqfS-bmY0yM"
      }
    },
    {
      "cell_type": "code",
      "source": [
        "class NeuralNetwork(nn.Module):\n",
        "    def __init__(self):\n",
        "        super(NeuralNetwork, self).__init__()\n",
        "        self.flatten = nn.Flatten()\n",
        "        self.linear_relu_stack = nn.Sequential(\n",
        "            nn.Linear(28*28, 512),\n",
        "            nn.ReLU(),\n",
        "            nn.Linear(512, 512),\n",
        "            nn.ReLU(),\n",
        "            nn.Linear(512, 10)\n",
        "        )\n",
        "    def forward(self, x):\n",
        "        x = self.flatten(x)\n",
        "        logits = self.linear_relu_stack(x)\n",
        "        return logits"
      ],
      "metadata": {
        "id": "Ds-b5RUSY1XV"
      },
      "execution_count": 3,
      "outputs": []
    },
    {
      "cell_type": "code",
      "source": [
        "model = NeuralNetwork().to(device)\n",
        "print(model)"
      ],
      "metadata": {
        "colab": {
          "base_uri": "https://localhost:8080/"
        },
        "id": "Ix773Ov-bhmp",
        "outputId": "a13c27ad-8f49-43bb-80ba-e567b41002c5"
      },
      "execution_count": 4,
      "outputs": [
        {
          "output_type": "stream",
          "name": "stdout",
          "text": [
            "NeuralNetwork(\n",
            "  (flatten): Flatten(start_dim=1, end_dim=-1)\n",
            "  (linear_relu_stack): Sequential(\n",
            "    (0): Linear(in_features=784, out_features=512, bias=True)\n",
            "    (1): ReLU()\n",
            "    (2): Linear(in_features=512, out_features=512, bias=True)\n",
            "    (3): ReLU()\n",
            "    (4): Linear(in_features=512, out_features=10, bias=True)\n",
            "  )\n",
            ")\n"
          ]
        }
      ]
    },
    {
      "cell_type": "code",
      "source": [
        "X = torch.rand(1, 28, 28, device=device)\n",
        "logits = model(X)\n",
        "pro_logits = nn.Softmax(dim=1)(logits)\n",
        "result = pro_logits.argmax(1)\n",
        "pro_result = pro_logits[0, result.item()] * 100\n",
        "print(f\"Result: {result} with {pro_result}%\")"
      ],
      "metadata": {
        "colab": {
          "base_uri": "https://localhost:8080/"
        },
        "id": "V_2brx5LcOE1",
        "outputId": "6ec57ade-f7cd-42f0-f74a-e23b4a1183ea"
      },
      "execution_count": 5,
      "outputs": [
        {
          "output_type": "stream",
          "name": "stdout",
          "text": [
            "Result: tensor([1]) with 10.94300365447998%\n"
          ]
        }
      ]
    },
    {
      "cell_type": "markdown",
      "source": [
        "# **Model layer**"
      ],
      "metadata": {
        "id": "itwsQtxLjcfN"
      }
    },
    {
      "cell_type": "markdown",
      "source": [
        "**Input**"
      ],
      "metadata": {
        "id": "7_bUAUBvjhCA"
      }
    },
    {
      "cell_type": "code",
      "source": [
        "X = torch.rand(3, 28, 28)\n",
        "print(\"Input size:\", X.size())"
      ],
      "metadata": {
        "colab": {
          "base_uri": "https://localhost:8080/"
        },
        "id": "ZmV5Td9aje4H",
        "outputId": "8aafa2c6-8a5f-4c2e-e7d2-6dfcbf3f7d42"
      },
      "execution_count": 6,
      "outputs": [
        {
          "output_type": "stream",
          "name": "stdout",
          "text": [
            "Input size: torch.Size([3, 28, 28])\n"
          ]
        }
      ]
    },
    {
      "cell_type": "markdown",
      "source": [
        "**nn.Flatten()**"
      ],
      "metadata": {
        "id": "LwMoTlTAjyKT"
      }
    },
    {
      "cell_type": "code",
      "source": [
        "flatten = nn.Flatten()\n",
        "X = flatten(X)\n",
        "print(\"Size of X:\", X.size())"
      ],
      "metadata": {
        "colab": {
          "base_uri": "https://localhost:8080/"
        },
        "id": "WzqVrIkQj0H1",
        "outputId": "2db3090e-2ac6-46ab-a564-bc82bf9d44e5"
      },
      "execution_count": 7,
      "outputs": [
        {
          "output_type": "stream",
          "name": "stdout",
          "text": [
            "Size of X: torch.Size([3, 784])\n"
          ]
        }
      ]
    },
    {
      "cell_type": "markdown",
      "source": [
        "**nn.Linear(in_features, out_features)**"
      ],
      "metadata": {
        "id": "ZeBETv-skm9h"
      }
    },
    {
      "cell_type": "code",
      "source": [
        "linear = nn.Linear(in_features=28*28, out_features=512)\n",
        "Hidden_1 = linear(X)\n",
        "print(\"Size of 'linear' hidden layer:\", Hidden_1.size())"
      ],
      "metadata": {
        "colab": {
          "base_uri": "https://localhost:8080/"
        },
        "id": "VwMqWfvOkvpf",
        "outputId": "2657f3f0-e527-479d-bfe3-ec37d6116224"
      },
      "execution_count": 8,
      "outputs": [
        {
          "output_type": "stream",
          "name": "stdout",
          "text": [
            "Size of 'linear' hidden layer: torch.Size([3, 512])\n"
          ]
        }
      ]
    },
    {
      "cell_type": "markdown",
      "source": [
        "**nn.ReLU()**"
      ],
      "metadata": {
        "id": "68yrgNy_lHM9"
      }
    },
    {
      "cell_type": "code",
      "source": [
        "print(\"Before using ReLU layer: Hidden_1 =\", Hidden_1)\n",
        "Hidden_2 = nn.ReLU()(Hidden_1)\n",
        "print(\"After using ReLU layer: Hidden_2 =\", Hidden_2)"
      ],
      "metadata": {
        "colab": {
          "base_uri": "https://localhost:8080/"
        },
        "id": "JMuMObyLlGKk",
        "outputId": "b24d757a-3d9f-417a-8f3b-9936966cb348"
      },
      "execution_count": 9,
      "outputs": [
        {
          "output_type": "stream",
          "name": "stdout",
          "text": [
            "Before using ReLU layer: Hidden_1 = tensor([[-0.3339,  0.5379, -0.5348,  ..., -0.0651,  0.0589,  0.0620],\n",
            "        [-0.3998,  0.2125, -0.2877,  ..., -0.1313,  0.2360,  0.1880],\n",
            "        [-0.8189, -0.1805, -0.2617,  ..., -0.0679,  0.2741, -0.1740]],\n",
            "       grad_fn=<AddmmBackward0>)\n",
            "After using ReLU layer: Hidden_2 = tensor([[0.0000, 0.5379, 0.0000,  ..., 0.0000, 0.0589, 0.0620],\n",
            "        [0.0000, 0.2125, 0.0000,  ..., 0.0000, 0.2360, 0.1880],\n",
            "        [0.0000, 0.0000, 0.0000,  ..., 0.0000, 0.2741, 0.0000]],\n",
            "       grad_fn=<ReluBackward0>)\n"
          ]
        }
      ]
    },
    {
      "cell_type": "markdown",
      "source": [
        "**nn.Sequential(...)**"
      ],
      "metadata": {
        "id": "OyP9o4unlqJh"
      }
    },
    {
      "cell_type": "code",
      "source": [
        "seq_model = nn.Sequential(\n",
        "    nn.Linear(28*28, 512),\n",
        "    nn.ReLU(),\n",
        "    nn.Linear(512, 10)\n",
        ")\n",
        "Y = seq_model(X)\n",
        "print(\"Size of output:\", Y.size())"
      ],
      "metadata": {
        "colab": {
          "base_uri": "https://localhost:8080/"
        },
        "id": "tsDIzQLkls1g",
        "outputId": "ce2a82f5-b139-49f7-9a26-d971003c6db3"
      },
      "execution_count": 10,
      "outputs": [
        {
          "output_type": "stream",
          "name": "stdout",
          "text": [
            "Size of output: torch.Size([3, 10])\n"
          ]
        }
      ]
    },
    {
      "cell_type": "markdown",
      "source": [
        "**nn.Softmax(dim)**"
      ],
      "metadata": {
        "id": "SxqeaMf0mKxq"
      }
    },
    {
      "cell_type": "code",
      "source": [
        "softmax = nn.Softmax(dim=1)(Y)\n",
        "print(\"Size of softmax layer\", softmax.size())"
      ],
      "metadata": {
        "colab": {
          "base_uri": "https://localhost:8080/"
        },
        "id": "xIEfgwScmON_",
        "outputId": "723fa915-3ac5-4ff8-9bdd-f67fdbe03957"
      },
      "execution_count": 11,
      "outputs": [
        {
          "output_type": "stream",
          "name": "stdout",
          "text": [
            "Size of softmax layer torch.Size([3, 10])\n"
          ]
        }
      ]
    },
    {
      "cell_type": "code",
      "source": [
        "for name, param in model.named_parameters():\n",
        "    print(f\"Layer: {name} | Size: {param.size()}\")"
      ],
      "metadata": {
        "colab": {
          "base_uri": "https://localhost:8080/"
        },
        "id": "yHsfZZkYFBEN",
        "outputId": "c8918922-f0c7-4ad8-8d60-307cbcdf7b1c"
      },
      "execution_count": 12,
      "outputs": [
        {
          "output_type": "stream",
          "name": "stdout",
          "text": [
            "Layer: linear_relu_stack.0.weight | Size: torch.Size([512, 784])\n",
            "Layer: linear_relu_stack.0.bias | Size: torch.Size([512])\n",
            "Layer: linear_relu_stack.2.weight | Size: torch.Size([512, 512])\n",
            "Layer: linear_relu_stack.2.bias | Size: torch.Size([512])\n",
            "Layer: linear_relu_stack.4.weight | Size: torch.Size([10, 512])\n",
            "Layer: linear_relu_stack.4.bias | Size: torch.Size([10])\n"
          ]
        }
      ]
    }
  ]
}