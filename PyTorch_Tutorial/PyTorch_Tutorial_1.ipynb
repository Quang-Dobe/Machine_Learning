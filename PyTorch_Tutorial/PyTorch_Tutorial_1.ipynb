{
  "cells": [
    {
      "cell_type": "markdown",
      "source": [
        "**Khái quát:**\n",
        "\n",
        "+ **torch.tensor(*data*)** : Chuyển dạng list, matrix thành 1 tensor (Cấu trúc tương tự)\n",
        "+ **torch.form_numpy(*np_data*)** : Chuyển dạng numpyarray thành 1 tensor\n",
        "+ **torch.rand_like(*x_tensor*, dtype=torch.float)** : Tạo 1 tensor với các phần tử mang giá trị random thuộc kiểu *torch.float* với tensor mới có cùng kích thước với *x_tensor*\n",
        "+ **torch.ones_like(x_tensor) / torch.zeros_like(x_tesnor)** : Tương tự như torch.rand_like(...) như ones_like tạo tensor có các phần tử là 1, zeros_like tạo tensor có các phần tử là 0\n",
        "+ **torch.rand((H, W)) / torch.ones((H, W)) / torch.zeros((H, W))** : Tạo 1 tensor có kích thước (H, W)\n",
        "+ **x_tensor.shape / x_tensor.dtype / x_tensor.device** : Lấy kích thước / kiểu dữ liệu / vị trí lưu của x_tensor\n",
        "+ **x_tensor[a, b] / x_tensor[:, 1] / x_tensor[1, :]** : Lấy / thay đổi các phần tử trong x_tensor\n",
        "+ **torch.cat(tensor_1, tensor_2, ..., dim=0)** : stack các tensor_1, tensor_2, ... theo: dim=0: stack theo vertical, dim=1: stack theo horizal\n",
        "+ **tensor_1 @ tensor_2 / torch.matmul(tensor_1, tensor_2)** : Phép nhân ma trận cho 2 tensor\n",
        "+ **tensor_1 * tensor_2 / torch.mul(tensor_1, tensor_2)** : Phép nhân từng phần tử cùng index trong tensor_1 và tensor_2\n",
        "+ **x_tensor.add_(2)** : Tăng tất cả các phần tử trong tensor lên 2 đơn vị\n",
        "+ **x_tensor.sum()** : Tạo 1 tensor có 1 phần tử với giá trị là tổng các phần tử của x_tensor\n",
        "+ **x_tensor.item()** : Chuyển tensor 1 phần tử thành Python numarical value\n",
        "+ **x_tensor.numpy()** : Chuyển tensor thành numpyarray \n",
        "\n",
        "***Lưu ý***; Nếu dùng các hàm chuyển đổi giữa Tensor thành Numpyarray, thay đổi giá trị các phần tử trong x_tensor thì numpyarray được chuyển trước đó cũng thay đổi và ngược lại\n"
      ],
      "metadata": {
        "id": "09eWZKeKO0t0"
      }
    },
    {
      "cell_type": "code",
      "source": [
        "import torch\n",
        "import numpy as np"
      ],
      "metadata": {
        "id": "lpjHNtLZ7UDI"
      },
      "execution_count": 45,
      "outputs": []
    },
    {
      "cell_type": "markdown",
      "source": [
        "# **Introduce to Tensor**"
      ],
      "metadata": {
        "id": "-uD6ax_CB_KF"
      }
    },
    {
      "cell_type": "code",
      "source": [
        "data = [[1, 2], [3, 4]]\n",
        "x_data = torch.tensor(data)\n",
        "x_data"
      ],
      "metadata": {
        "colab": {
          "base_uri": "https://localhost:8080/"
        },
        "id": "sSSux71N9Rke",
        "outputId": "38185b71-68ec-4fa2-80ad-d65119f17f4a"
      },
      "execution_count": 46,
      "outputs": [
        {
          "output_type": "execute_result",
          "data": {
            "text/plain": [
              "tensor([[1, 2],\n",
              "        [3, 4]])"
            ]
          },
          "metadata": {},
          "execution_count": 46
        }
      ]
    },
    {
      "cell_type": "code",
      "source": [
        "np_data = np.array(data)\n",
        "X_data_fr_np = torch.from_numpy(np_data)\n",
        "X_data_fr_np"
      ],
      "metadata": {
        "colab": {
          "base_uri": "https://localhost:8080/"
        },
        "id": "-TIbUimo9kxr",
        "outputId": "790ba1a6-2b58-4222-8df8-429b78f85c2d"
      },
      "execution_count": 47,
      "outputs": [
        {
          "output_type": "execute_result",
          "data": {
            "text/plain": [
              "tensor([[1, 2],\n",
              "        [3, 4]])"
            ]
          },
          "metadata": {},
          "execution_count": 47
        }
      ]
    },
    {
      "cell_type": "code",
      "source": [
        "x_ones = torch.ones_like(x_data)\n",
        "x_rand = torch.rand_like(x_data, dtype = torch.float)\n",
        "\n",
        "print(f\"One tensor: \\n {x_ones}\")\n",
        "print(f\"Rand tensor: \\n {x_rand}\")\n",
        "print(f\"Original tensor: \\n {x_data}\")"
      ],
      "metadata": {
        "colab": {
          "base_uri": "https://localhost:8080/"
        },
        "id": "AZlRmNIe-fK2",
        "outputId": "6a218979-751d-4831-e7e5-bb812d273051"
      },
      "execution_count": 48,
      "outputs": [
        {
          "output_type": "stream",
          "name": "stdout",
          "text": [
            "One tensor: \n",
            " tensor([[1, 1],\n",
            "        [1, 1]])\n",
            "Rand tensor: \n",
            " tensor([[0.6948, 0.1234],\n",
            "        [0.1041, 0.2010]])\n",
            "Original tensor: \n",
            " tensor([[1, 2],\n",
            "        [3, 4]])\n"
          ]
        }
      ]
    },
    {
      "cell_type": "code",
      "source": [
        "shape = (2, 3)\n",
        "rand_tensor = torch.rand(shape)\n",
        "ones_tensor = torch.ones(shape)\n",
        "zeros_tensor = torch.zeros(shape)\n",
        "print(f\"rand_tensor = \\n {rand_tensor}\")\n",
        "print(f\"ones_tensor = \\n {ones_tensor}\")\n",
        "print(f\"zeros_tensor = \\n {zeros_tensor}\")"
      ],
      "metadata": {
        "colab": {
          "base_uri": "https://localhost:8080/"
        },
        "id": "HtxPkbaD_Yg7",
        "outputId": "7fc63707-ed11-404b-a0a4-3964350da4e5"
      },
      "execution_count": 49,
      "outputs": [
        {
          "output_type": "stream",
          "name": "stdout",
          "text": [
            "rand_tensor = \n",
            " tensor([[0.1064, 0.1045, 0.1292],\n",
            "        [0.0833, 0.3021, 0.3761]])\n",
            "ones_tensor = \n",
            " tensor([[1., 1., 1.],\n",
            "        [1., 1., 1.]])\n",
            "zeros_tensor = \n",
            " tensor([[0., 0., 0.],\n",
            "        [0., 0., 0.]])\n"
          ]
        }
      ]
    },
    {
      "cell_type": "code",
      "source": [
        "rand_tensor = torch.rand((3,2))\n",
        "print(\"Shape of rand_tensor:\", rand_tensor.shape)\n",
        "print(\"Datatype of rand_tensor:\", rand_tensor.dtype)\n",
        "print(\"Device rand_tensor is stored in:\", rand_tensor.device)"
      ],
      "metadata": {
        "colab": {
          "base_uri": "https://localhost:8080/"
        },
        "id": "tpn45lfwBINP",
        "outputId": "d8d80b1a-5435-4b95-d08d-299c2fef5797"
      },
      "execution_count": 50,
      "outputs": [
        {
          "output_type": "stream",
          "name": "stdout",
          "text": [
            "Shape of rand_tensor: torch.Size([3, 2])\n",
            "Datatype of rand_tensor: torch.float32\n",
            "Device rand_tensor is stored in: cpu\n"
          ]
        }
      ]
    },
    {
      "cell_type": "markdown",
      "source": [
        "# **Operations on Tensors**"
      ],
      "metadata": {
        "id": "CQ8-VmOdBzzX"
      }
    },
    {
      "cell_type": "code",
      "source": [
        "if torch.cuda.is_available():\n",
        "    print(\"OK\")\n",
        "    rand_tensor = rand_tensor.to(\"cuda\")"
      ],
      "metadata": {
        "id": "ItPloz7VBuAw"
      },
      "execution_count": 51,
      "outputs": []
    },
    {
      "cell_type": "code",
      "source": [
        "rand_tensor = torch.rand((2, 3))\n",
        "\n",
        "print(f\"Rand_tensor = \\n {rand_tensor}\")\n",
        "print(\"----------------------------------------------\")\n",
        "print(\"First row:\", rand_tensor[0, :])\n",
        "print(\"First column:\", rand_tensor[:, 0])\n",
        "print(\"Last column:\", rand_tensor[:, -1])"
      ],
      "metadata": {
        "colab": {
          "base_uri": "https://localhost:8080/"
        },
        "id": "MMGD1vLkFprD",
        "outputId": "be4d519b-c523-4a96-aa5f-4aa6a88df5ea"
      },
      "execution_count": 52,
      "outputs": [
        {
          "output_type": "stream",
          "name": "stdout",
          "text": [
            "Rand_tensor = \n",
            " tensor([[0.7442, 0.1113, 0.7643],\n",
            "        [0.3580, 0.2305, 0.0932]])\n",
            "----------------------------------------------\n",
            "First row: tensor([0.7442, 0.1113, 0.7643])\n",
            "First column: tensor([0.7442, 0.3580])\n",
            "Last column: tensor([0.7643, 0.0932])\n"
          ]
        }
      ]
    },
    {
      "cell_type": "code",
      "source": [
        "# rand_tensor[1,2] = 1\n",
        "rand_tensor[:, 2] = 2\n",
        "print(rand_tensor)"
      ],
      "metadata": {
        "colab": {
          "base_uri": "https://localhost:8080/"
        },
        "id": "G3_tf6keHiiC",
        "outputId": "a499d053-08d3-43e2-c1c1-e246f33ba0f6"
      },
      "execution_count": 53,
      "outputs": [
        {
          "output_type": "stream",
          "name": "stdout",
          "text": [
            "tensor([[0.7442, 0.1113, 2.0000],\n",
            "        [0.3580, 0.2305, 2.0000]])\n"
          ]
        }
      ]
    },
    {
      "cell_type": "code",
      "source": [
        "# Stack by vertical\n",
        "multi_tensor = torch.cat([rand_tensor, ones_tensor, zeros_tensor], dim=0)\n",
        "print(multi_tensor)\n",
        "\n",
        "# Stack by horizal\n",
        "multi_tensor = torch.cat([rand_tensor, ones_tensor, zeros_tensor], dim=1)\n",
        "print(multi_tensor)"
      ],
      "metadata": {
        "colab": {
          "base_uri": "https://localhost:8080/"
        },
        "id": "cgQRr9rBIjt7",
        "outputId": "1e6326c7-6b74-4c7e-a5df-19b226548d11"
      },
      "execution_count": 54,
      "outputs": [
        {
          "output_type": "stream",
          "name": "stdout",
          "text": [
            "tensor([[0.7442, 0.1113, 2.0000],\n",
            "        [0.3580, 0.2305, 2.0000],\n",
            "        [1.0000, 1.0000, 1.0000],\n",
            "        [1.0000, 1.0000, 1.0000],\n",
            "        [0.0000, 0.0000, 0.0000],\n",
            "        [0.0000, 0.0000, 0.0000]])\n",
            "tensor([[0.7442, 0.1113, 2.0000, 1.0000, 1.0000, 1.0000, 0.0000, 0.0000, 0.0000],\n",
            "        [0.3580, 0.2305, 2.0000, 1.0000, 1.0000, 1.0000, 0.0000, 0.0000, 0.0000]])\n"
          ]
        }
      ]
    },
    {
      "cell_type": "code",
      "source": [
        "data = [[1, 2, 3], [4, 5, 6]]\n",
        "x_tensor = torch.tensor(data)\n",
        "\n",
        "y1 = x_tensor @ x_tensor.T\n",
        "y2 = x_tensor.matmul(x_tensor.T)\n",
        "print(y1)\n",
        "print(y2)\n",
        "\n",
        "print(\"--------------------------------------\\n\")\n",
        "\n",
        "z1 = x_tensor * x_tensor\n",
        "z2 = x_tensor.mul(x_tensor)\n",
        "print(z1)\n",
        "print(z2)"
      ],
      "metadata": {
        "colab": {
          "base_uri": "https://localhost:8080/"
        },
        "id": "4o_k1oZ_C1zC",
        "outputId": "ce32192f-c772-4ac2-ad7a-a6b6a7df8961"
      },
      "execution_count": 55,
      "outputs": [
        {
          "output_type": "stream",
          "name": "stdout",
          "text": [
            "tensor([[14, 32],\n",
            "        [32, 77]])\n",
            "tensor([[14, 32],\n",
            "        [32, 77]])\n",
            "--------------------------------------\n",
            "\n",
            "tensor([[ 1,  4,  9],\n",
            "        [16, 25, 36]])\n",
            "tensor([[ 1,  4,  9],\n",
            "        [16, 25, 36]])\n"
          ]
        }
      ]
    },
    {
      "cell_type": "code",
      "source": [
        "data = [[0, 1, 1, 1], [1, 0, 1, 1], [1, 1, 0, 1], [1, 1, 1, 0]]\n",
        "X = torch.tensor(data)\n",
        "print(X)\n",
        "X.add_(5)\n",
        "print(X)"
      ],
      "metadata": {
        "colab": {
          "base_uri": "https://localhost:8080/"
        },
        "id": "ob1MM4QXTWKD",
        "outputId": "59658abd-f1cb-4b86-addb-25dac95863f3"
      },
      "execution_count": 56,
      "outputs": [
        {
          "output_type": "stream",
          "name": "stdout",
          "text": [
            "tensor([[0, 1, 1, 1],\n",
            "        [1, 0, 1, 1],\n",
            "        [1, 1, 0, 1],\n",
            "        [1, 1, 1, 0]])\n",
            "tensor([[5, 6, 6, 6],\n",
            "        [6, 5, 6, 6],\n",
            "        [6, 6, 5, 6],\n",
            "        [6, 6, 6, 5]])\n"
          ]
        }
      ]
    },
    {
      "cell_type": "code",
      "source": [
        "agg = x_tensor.sum()\n",
        "agg_item = agg.item()\n",
        "print(agg, type(agg))\n",
        "print(agg_item, type(agg_item))"
      ],
      "metadata": {
        "colab": {
          "base_uri": "https://localhost:8080/"
        },
        "id": "eS3km63tVlDi",
        "outputId": "9934f45f-5138-46aa-c363-1ad23085a01d"
      },
      "execution_count": 57,
      "outputs": [
        {
          "output_type": "stream",
          "name": "stdout",
          "text": [
            "tensor(21) <class 'torch.Tensor'>\n",
            "21 <class 'int'>\n"
          ]
        }
      ]
    },
    {
      "cell_type": "code",
      "source": [
        "# Tensor to numpyarray\n",
        "x_tensor = torch.ones((2,3))\n",
        "x_numpy = x_tensor.numpy()\n",
        "print(x_numpy)\n",
        "print(type(x_numpy))\n",
        "\n",
        "# Change x_tensor, x_numpy will change also\n",
        "x_tensor.add_(2)\n",
        "print(x_numpy)"
      ],
      "metadata": {
        "colab": {
          "base_uri": "https://localhost:8080/"
        },
        "id": "IgtjzZTXVxRi",
        "outputId": "13f61bc3-79d0-4e9e-f79c-ed3d22454738"
      },
      "execution_count": 58,
      "outputs": [
        {
          "output_type": "stream",
          "name": "stdout",
          "text": [
            "[[1. 1. 1.]\n",
            " [1. 1. 1.]]\n",
            "<class 'numpy.ndarray'>\n",
            "[[3. 3. 3.]\n",
            " [3. 3. 3.]]\n"
          ]
        }
      ]
    }
  ],
  "metadata": {
    "colab": {
      "name": "PyTorch_Tutorial_1.ipynb",
      "provenance": []
    },
    "kernelspec": {
      "display_name": "Python 3",
      "name": "python3"
    },
    "language_info": {
      "name": "python"
    }
  },
  "nbformat": 4,
  "nbformat_minor": 0
}