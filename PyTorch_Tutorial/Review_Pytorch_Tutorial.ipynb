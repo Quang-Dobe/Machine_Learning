{
  "nbformat": 4,
  "nbformat_minor": 0,
  "metadata": {
    "colab": {
      "name": "Review_Pytorch_Tutorial.ipynb",
      "private_outputs": true,
      "provenance": [],
      "collapsed_sections": []
    },
    "kernelspec": {
      "name": "python3",
      "display_name": "Python 3"
    },
    "language_info": {
      "name": "python"
    }
  },
  "cells": [
    {
      "cell_type": "code",
      "execution_count": null,
      "metadata": {
        "id": "YSiwBu565efA"
      },
      "outputs": [],
      "source": [
        "import torch\n",
        "import torchvision\n",
        "\n",
        "from torch import nn\n",
        "from torch.utils.data import DataLoader"
      ]
    },
    {
      "cell_type": "code",
      "source": [
        "training_data = torchvision.datasets.FashionMNIST(\n",
        "    root=\"data\",\n",
        "    train=True,\n",
        "    download=True,\n",
        "    transform=torchvision.transforms.ToTensor()\n",
        ")\n",
        "\n",
        "testing_data = torchvision.datasets.FashionMNIST(\n",
        "    root=\"data\",\n",
        "    train=False,\n",
        "    download=True,\n",
        "    transform=torchvision.transforms.ToTensor()\n",
        ")"
      ],
      "metadata": {
        "id": "xMESdDQY5z28"
      },
      "execution_count": null,
      "outputs": []
    },
    {
      "cell_type": "code",
      "source": [
        "class NeuralNetwork(nn.Module):\n",
        "    def __init__(self):\n",
        "        super(NeuralNetwork, self).__init__()\n",
        "        self.flatten = nn.Flatten()\n",
        "        self.hiddenLayer = nn.Sequential(\n",
        "            nn.Linear(28*28, 512),\n",
        "            nn.ReLU(),\n",
        "            nn.Linear(512, 512),\n",
        "            nn.ReLU(),\n",
        "            nn.Linear(512, 10)\n",
        "        )\n",
        "        nn.y = nn.Softmax()\n",
        "    \n",
        "    def forward(self, X):\n",
        "        X = self.flatten(X)\n",
        "        y = self.hiddenLayer(X)\n",
        "        return y\n",
        "    \n",
        "    def train(self, training_data, batch_size=64, num_epochs=10, learning_rate=1e-3):\n",
        "        training_dataloader = DataLoader(training_data, batch_size=batch_size, shuffle=True)\n",
        "        optimizer = torch.optim.SGD(self.parameters(), lr=learning_rate)\n",
        "        loss_function = nn.CrossEntropyLoss()\n",
        "\n",
        "        for i in range(num_epochs):\n",
        "            for batch, (X, y) in enumerate(training_dataloader):\n",
        "                y_pre = self.forward(X)\n",
        "                loss = loss_function(y_pre, y)\n",
        "\n",
        "                optimizer.zero_grad()\n",
        "                loss.backward()\n",
        "                optimizer.step()\n",
        "\n",
        "            print(f\"Epoch {i}: Loss = {loss}\")\n",
        "\n",
        "    def Evaluate(self, testing_data):\n",
        "        X, y = testing_data.data, testing_data.targets\n",
        "        count, total = 0, 0\n",
        "\n",
        "        for index in range(X.size()[0]):\n",
        "            temp = torch.Tensor(X[index].numpy().reshape(1, 28, 28))\n",
        "            y_pre = self.forward(temp)\n",
        "            total += 1\n",
        "            if (y[index].item() == y_pre.argmax(1).item()):\n",
        "                count += 1\n",
        "        return count/total*100"
      ],
      "metadata": {
        "id": "Y2O-G4EV91BE"
      },
      "execution_count": null,
      "outputs": []
    },
    {
      "cell_type": "code",
      "source": [
        "model = NeuralNetwork()"
      ],
      "metadata": {
        "id": "VvxhxmfD-86q"
      },
      "execution_count": null,
      "outputs": []
    },
    {
      "cell_type": "code",
      "source": [
        "highest_acc, bst_model = 0, None\n",
        "for epochs in range(10, 101, 10):\n",
        "    print(\"-------------------------------\")\n",
        "    model.train(training_data, batch_size=64, num_epochs=epochs, learning_rate=1e-3)\n",
        "    score = model.Evaluate(testing_data)\n",
        "    print(f\"###{score}\")\n",
        "    if (highest_acc < score):\n",
        "        highest_acc = score\n",
        "        bst_model = model\n"
      ],
      "metadata": {
        "id": "hhYWB-pljrfi"
      },
      "execution_count": null,
      "outputs": []
    },
    {
      "cell_type": "code",
      "source": [
        "score = bst_model.Evaluate(testing_data)\n",
        "print(score)"
      ],
      "metadata": {
        "id": "6hFaMny2Dhy2"
      },
      "execution_count": null,
      "outputs": []
    }
  ]
}