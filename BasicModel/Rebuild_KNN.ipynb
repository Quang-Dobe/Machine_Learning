{
  "nbformat": 4,
  "nbformat_minor": 0,
  "metadata": {
    "colab": {
      "name": "Rebuild_KNN.ipynb",
      "private_outputs": true,
      "provenance": [],
      "collapsed_sections": []
    },
    "kernelspec": {
      "name": "python3",
      "display_name": "Python 3"
    },
    "language_info": {
      "name": "python"
    }
  },
  "cells": [
    {
      "cell_type": "code",
      "source": [
        "import numpy as np\n",
        "import pandas as pd\n",
        "import matplotlib.pyplot as plt\n",
        "from numpy.random import default_rng"
      ],
      "metadata": {
        "id": "92qk2oXzqe-W"
      },
      "execution_count": null,
      "outputs": []
    },
    {
      "cell_type": "markdown",
      "source": [
        "**Load dataset**\n",
        "\n",
        "(Dataset from Kaggle. Link: <a href='https://www.kaggle.com/datasets/gkalpolukcu/knn-algorithm-dataset'>Here</a>)"
      ],
      "metadata": {
        "id": "6uOunCo1q0NE"
      }
    },
    {
      "cell_type": "code",
      "source": [
        "data = pd.read_csv('KNNAlgorithmDataset.csv')\n",
        "data.head(10)"
      ],
      "metadata": {
        "id": "Wo7OA2Sbqj5l"
      },
      "execution_count": null,
      "outputs": []
    },
    {
      "cell_type": "markdown",
      "source": [
        "**Train-test split**"
      ],
      "metadata": {
        "id": "2rncpvCO9gxO"
      }
    },
    {
      "cell_type": "code",
      "source": [
        "X = data.drop(columns=['id', 'diagnosis', 'Unnamed: 32'])\n",
        "y = data['diagnosis']\n",
        "\n",
        "# Train-test split\n",
        "# Choose random index\n",
        "rng = default_rng()\n",
        "train_index = rng.choice(data.shape[0], size=int((data.shape[0])*0.8), replace=False)\n",
        "test_index = np.array([i for i in range(data.shape[0]) if i not in train_index])\n",
        "# Get train-test based on train_index, test_index\n",
        "X_train, X_test = X.copy().loc[train_index], X.copy().loc[test_index]\n",
        "y_train, y_test = y.copy().loc[train_index], y.copy().loc[test_index]\n",
        "X_train, X_test, y_train, y_test = X_train.values, X_test.values, y_train.values, y_test.values"
      ],
      "metadata": {
        "id": "FWhwSntSqxVQ"
      },
      "execution_count": null,
      "outputs": []
    },
    {
      "cell_type": "markdown",
      "source": [
        "**Function**"
      ],
      "metadata": {
        "id": "2MjxHoHl9jTI"
      }
    },
    {
      "cell_type": "code",
      "source": [
        "def distance(point_A, point_B, metric=2):\n",
        "    return np.sum(np.power(np.sqrt(np.abs(point_A - point_B)), metric))"
      ],
      "metadata": {
        "id": "jMI6uV0fM1-G"
      },
      "execution_count": null,
      "outputs": []
    },
    {
      "cell_type": "code",
      "source": [
        "class KNN:\n",
        "    def __init__(self, X_train, y_train, weight='same', algorithm='bruteForce', metric=2):\n",
        "        self.X_train = X_train\n",
        "        self.y_train = y_train\n",
        "        self.weight = weight\n",
        "        self.algorithm = algorithm\n",
        "        self.metric = metric\n",
        "    \n",
        "\n",
        "    def KNearest(self, data_point, K=3):\n",
        "        # Save distances in a dictionary (keys: index of each point in X_train, value: distance between point in X_train and data_point)\n",
        "        _ = dict()\n",
        "        # If using bruteForce\n",
        "        if self.algorithm == 'bruteForce' or self.algorithm == 1:\n",
        "            for index in range(self.X_train.shape[0]):\n",
        "                _[index] = distance(self.X_train[index], data_point, self.metric)\n",
        "            \n",
        "            # Sort dictionary by values\n",
        "            _ = dict(sorted(_.items(), key=lambda item: item[1], reverse=True))\n",
        "            # Get K key-value (from 1st to K-th highest values)\n",
        "            return dict((_.popitem() for i in range(K)))\n",
        "        # <Add more algorithm here...>\n",
        "        return None\n",
        "\n",
        "\n",
        "    def findLabel(self, result, data_point):\n",
        "        # First, I will change an ouput (a number) into a vector by using one-hot-encoding\n",
        "        # Based on the index keys in result variable, we can get the label of each point\n",
        "        numPerClass, numClass = self.getNumPerClass()\n",
        "        KeyValue, ValueKey, y_oneHot, num = [], [], [], 0\n",
        "        # Set each class as an interger\n",
        "        for key in numPerClass.keys():\n",
        "            KeyValue.append((key, num))\n",
        "            ValueKey.append((num, key))\n",
        "            num += 1\n",
        "        KeyValue = dict(KeyValue)\n",
        "        ValueKey = dict(ValueKey)\n",
        "        # Set y_oneHot as a list contain key (index of that point) and label (type one-hot vector)\n",
        "        for key in result.keys():\n",
        "            y_oneHot.append([key, [1 if i==KeyValue[self.y_train[key]] else 0 for i in range(numClass)]])\n",
        "        # Calculate sum of all one-hot vector\n",
        "        total = [0 for i in range(numClass)]\n",
        "        if self.weight=='same' or self.weight==0:\n",
        "            for i in range(len(y_oneHot)):\n",
        "                total = np.add(total, 1 * y_oneHot[i][1])\n",
        "            # To get a better result if there are multi class which having same number of point near dataPoint (with highest number)\n",
        "            # We can choose a class which has lots point in dataset\n",
        "            Max = np.max(total)\n",
        "            index = [i for i in range(len(total)) if total[i]==Max]\n",
        "            # Convert index to class\n",
        "            classBasedOnIndex, Max, nameMax = [ValueKey[item] for item in index], 0, None\n",
        "            for item in classBasedOnIndex:\n",
        "                if numPerClass[item] > Max:\n",
        "                    Max = numPerClass[item]\n",
        "                    nameMax = item\n",
        "            return nameMax\n",
        "        elif self.weight=='distance' or self.weight==1:\n",
        "            for i in range(len(y_oneHot)):\n",
        "                total = np.add(total, np.multiply(1/result[y_oneHot[i][0]], y_oneHot[i][1]))\n",
        "            # Find the final label for that datapoint\n",
        "            for (key, value) in KeyValue.items():\n",
        "                if value == np.argmax(total):\n",
        "                    return key\n",
        "        return None\n",
        "\n",
        "    \n",
        "    def predict(self, data_point, K=3):\n",
        "        # Find K-nearest points (based on algorithm)\n",
        "        result = self.KNearest(data_point, K)\n",
        "        # Find label (based on weight)\n",
        "        return self.findLabel(result, data_point)\n",
        "\n",
        "\n",
        "    def evaluate(self, X_test, y_test, K=3):\n",
        "        count = 0\n",
        "        for index in range(X_test.shape[0]):\n",
        "            if self.predict(X_test[index], K) == y_test[index]:\n",
        "                count += 1\n",
        "        return count / X_test.shape[0] * 100\n",
        "\n",
        "\n",
        "    def getNumPerClass(self):\n",
        "        Class, numClass = dict(), 0\n",
        "        for label in self.y_train:\n",
        "            if label not in Class.keys():\n",
        "                Class[label] = 1\n",
        "                numClass += 1\n",
        "            else:\n",
        "                Class[label] += 1\n",
        "        return Class, numClass"
      ],
      "metadata": {
        "id": "OIv8T5m39nin"
      },
      "execution_count": null,
      "outputs": []
    },
    {
      "cell_type": "markdown",
      "source": [
        "**Default model**"
      ],
      "metadata": {
        "id": "-0FcTIqfaad8"
      }
    },
    {
      "cell_type": "code",
      "source": [
        "model = KNN(X_train, y_train)\n",
        "model.evaluate(X_test, y_test)"
      ],
      "metadata": {
        "id": "3UTicrVXSZ20"
      },
      "execution_count": null,
      "outputs": []
    },
    {
      "cell_type": "markdown",
      "source": [
        "**Hyperparameter**"
      ],
      "metadata": {
        "id": "Mbr9MUekbEP9"
      }
    },
    {
      "cell_type": "code",
      "source": [
        "# Here, we will see the rate change by changing 2 hyperparameters: Number nearest point (K) and the distance formula (p)\n",
        "# These accuracy using weight = 'same'\n",
        "K = [i for i in range(15)]\n",
        "metrics =[1, 2, 3]\n",
        "\n",
        "result_metrics = []\n",
        "for metric in metrics:\n",
        "    temp = []\n",
        "    model = KNN(X_train, y_train, metric=metric)\n",
        "    for k in K:\n",
        "        temp.append(model.evaluate(X_test, y_test, K=k))\n",
        "    result_metrics.append(temp)"
      ],
      "metadata": {
        "id": "aGvnZ7njbGEs"
      },
      "execution_count": null,
      "outputs": []
    },
    {
      "cell_type": "code",
      "source": [
        "plt.figure(figsize=(10,6))\n",
        "plt.plot(K, result_metrics[0], 'o:r')\n",
        "plt.plot(K, result_metrics[1], '*-b')\n",
        "plt.plot(K, result_metrics[2], '.--g')\n",
        "plt.legend([\"Manhattan\", \"Euclidean\", \"Minkowski\"])\n",
        "plt.show()"
      ],
      "metadata": {
        "id": "Qf9Ri0-wfaV4"
      },
      "execution_count": null,
      "outputs": []
    },
    {
      "cell_type": "code",
      "source": [
        "# Here, we will see the rate change by changing 2 hyperparameters: Number nearest point (K) and the distance formula (p)\n",
        "# These accuracy using weight = 'distance'\n",
        "K = [i for i in range(15)]\n",
        "metrics =[1, 2, 3]\n",
        "\n",
        "result_metrics = []\n",
        "for metric in metrics:\n",
        "    temp = []\n",
        "    model = KNN(X_train, y_train, weight='distance', metric=metric)\n",
        "    for k in K:\n",
        "        temp.append(model.evaluate(X_test, y_test, K=k))\n",
        "    result_metrics.append(temp)"
      ],
      "metadata": {
        "id": "DMRYAJ3p0jv2"
      },
      "execution_count": null,
      "outputs": []
    },
    {
      "cell_type": "code",
      "source": [
        "plt.figure(figsize=(10,6))\n",
        "plt.plot(K, result_metrics[0], 'o:r')\n",
        "plt.plot(K, result_metrics[1], '*-b')\n",
        "plt.plot(K, result_metrics[2], '.--g')\n",
        "plt.legend([\"Manhattan\", \"Euclidean\", \"Minkowski\"])\n",
        "plt.show()"
      ],
      "metadata": {
        "id": "WTsnVqWo0yTZ"
      },
      "execution_count": null,
      "outputs": []
    }
  ]
}